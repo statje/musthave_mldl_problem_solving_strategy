{
  "nbformat": 4,
  "nbformat_minor": 0,
  "metadata": {
    "colab": {
      "provenance": [],
      "authorship_tag": "ABX9TyPvgoBhhQPAMdgSvAOLdjp8",
      "include_colab_link": true
    },
    "kernelspec": {
      "name": "python3",
      "display_name": "Python 3"
    },
    "language_info": {
      "name": "python"
    }
  },
  "cells": [
    {
      "cell_type": "markdown",
      "metadata": {
        "id": "view-in-github",
        "colab_type": "text"
      },
      "source": [
        "<a href=\"https://colab.research.google.com/github/statje/musthave_mldl_problem_solving_strategy/blob/master/ch5_%EA%B5%90%EC%B0%A8%EA%B2%80%EC%A6%9D.ipynb\" target=\"_parent\"><img src=\"https://colab.research.google.com/assets/colab-badge.svg\" alt=\"Open In Colab\"/></a>"
      ]
    },
    {
      "cell_type": "markdown",
      "source": [
        "k fold 교차 검증"
      ],
      "metadata": {
        "id": "lJvgalduViDs"
      }
    },
    {
      "cell_type": "code",
      "execution_count": 1,
      "metadata": {
        "id": "m6AWxzu2VBeV",
        "colab": {
          "base_uri": "https://localhost:8080/"
        },
        "outputId": "8c661296-0d50-4928-f1ce-5141c10b6c3d"
      },
      "outputs": [
        {
          "output_type": "stream",
          "name": "stdout",
          "text": [
            "훈련 데이터 : [2 3 4 5 6 7 8 9], 검증데이터 : [0 1]\n",
            "훈련 데이터 : [0 1 4 5 6 7 8 9], 검증데이터 : [2 3]\n",
            "훈련 데이터 : [0 1 2 3 6 7 8 9], 검증데이터 : [4 5]\n",
            "훈련 데이터 : [0 1 2 3 4 5 8 9], 검증데이터 : [6 7]\n",
            "훈련 데이터 : [0 1 2 3 4 5 6 7], 검증데이터 : [8 9]\n"
          ]
        }
      ],
      "source": [
        "import numpy as np\n",
        "from sklearn.model_selection import KFold\n",
        "\n",
        "data = np.array([0,1,2,3,4,5,6,7,8,9])\n",
        "folds = KFold(n_splits = 5, shuffle = False) # k = 5로 설정 / suffle = False로 데이터를 안섞음.\n",
        "\n",
        "for train_idx, valid_idx in folds.split(data):\n",
        "  print(f'훈련 데이터 : {data[train_idx]}, 검증데이터 : {data[valid_idx]}')"
      ]
    },
    {
      "cell_type": "markdown",
      "source": [
        "데이터가 편향되어 있을 수도 있기 때문에 Shuffle 파라미터에 True를 전달함"
      ],
      "metadata": {
        "id": "2e-PPOR4Vgyf"
      }
    },
    {
      "cell_type": "code",
      "source": [
        "import numpy as np\n",
        "from sklearn.model_selection import KFold\n",
        "\n",
        "data = np.array([0,1,2,3,4,5,6,7,8,9])\n",
        "folds = KFold(n_splits = 5, shuffle = False) # k = 5로 설정 / suffle = False로 데이터를 안섞음.\n",
        "\n",
        "for train_idx, valid_idx in folds.split(data):\n",
        "  print(f'훈련 데이터 : {data[train_idx]}, 검증데이터 : {data[valid_idx]}')"
      ],
      "metadata": {
        "id": "JEnUANCaVZ1U",
        "colab": {
          "base_uri": "https://localhost:8080/"
        },
        "outputId": "67f24f22-6f72-45c0-999e-c3b70bca4960"
      },
      "execution_count": 2,
      "outputs": [
        {
          "output_type": "stream",
          "name": "stdout",
          "text": [
            "훈련 데이터 : [2 3 4 5 6 7 8 9], 검증데이터 : [0 1]\n",
            "훈련 데이터 : [0 1 4 5 6 7 8 9], 검증데이터 : [2 3]\n",
            "훈련 데이터 : [0 1 2 3 6 7 8 9], 검증데이터 : [4 5]\n",
            "훈련 데이터 : [0 1 2 3 4 5 8 9], 검증데이터 : [6 7]\n",
            "훈련 데이터 : [0 1 2 3 4 5 6 7], 검증데이터 : [8 9]\n"
          ]
        }
      ]
    },
    {
      "cell_type": "markdown",
      "source": [
        "층화 K 폴드 교차 검증"
      ],
      "metadata": {
        "id": "R6guPuGbVfbx"
      }
    },
    {
      "cell_type": "code",
      "source": [
        "#기존 KFold\n",
        "y = np.array(['스팸']*5 + ['일반']*45)\n",
        "folds = KFold(n_splits = 5, shuffle = True)\n",
        "\n",
        "for idx, (train_idx, valid_idx) in enumerate(folds.split(y)):\n",
        "  print(f'Fold {idx+1} 검증 데이터 타깃값 : ')\n",
        "  print(y[valid_idx], '\\n')"
      ],
      "metadata": {
        "id": "KU_23jjAVa6j",
        "colab": {
          "base_uri": "https://localhost:8080/"
        },
        "outputId": "474beb58-602c-4c5d-f96d-e5d02c4939cb"
      },
      "execution_count": 3,
      "outputs": [
        {
          "output_type": "stream",
          "name": "stdout",
          "text": [
            "Fold 1 검증 데이터 타깃값 : \n",
            "['스팸' '스팸' '일반' '일반' '일반' '일반' '일반' '일반' '일반' '일반'] \n",
            "\n",
            "Fold 2 검증 데이터 타깃값 : \n",
            "['스팸' '일반' '일반' '일반' '일반' '일반' '일반' '일반' '일반' '일반'] \n",
            "\n",
            "Fold 3 검증 데이터 타깃값 : \n",
            "['스팸' '일반' '일반' '일반' '일반' '일반' '일반' '일반' '일반' '일반'] \n",
            "\n",
            "Fold 4 검증 데이터 타깃값 : \n",
            "['일반' '일반' '일반' '일반' '일반' '일반' '일반' '일반' '일반' '일반'] \n",
            "\n",
            "Fold 5 검증 데이터 타깃값 : \n",
            "['스팸' '일반' '일반' '일반' '일반' '일반' '일반' '일반' '일반' '일반'] \n",
            "\n"
          ]
        }
      ]
    },
    {
      "cell_type": "code",
      "source": [
        "from sklearn.model_selection import StratifiedKFold\n",
        "\n",
        "X = np.array(range(50))\n",
        "y = np.array(['스팸']*5 + ['일반']*45)\n",
        "\n",
        "folds = StratifiedKFold(n_splits = 5)\n",
        "\n",
        "for idx, (train_idx, valid_idx) in enumerate(folds.split(X,y)):\n",
        "  print(f'Fold {idx+1} 검증 데이터 타깃값:')\n",
        "  print(y[valid_idx], '\\n')"
      ],
      "metadata": {
        "id": "5lrGBFepVb-i",
        "colab": {
          "base_uri": "https://localhost:8080/"
        },
        "outputId": "a5bcd99e-a547-4b2e-8e21-6bcdf3ae96bf"
      },
      "execution_count": 4,
      "outputs": [
        {
          "output_type": "stream",
          "name": "stdout",
          "text": [
            "Fold 1 검증 데이터 타깃값:\n",
            "['스팸' '일반' '일반' '일반' '일반' '일반' '일반' '일반' '일반' '일반'] \n",
            "\n",
            "Fold 2 검증 데이터 타깃값:\n",
            "['스팸' '일반' '일반' '일반' '일반' '일반' '일반' '일반' '일반' '일반'] \n",
            "\n",
            "Fold 3 검증 데이터 타깃값:\n",
            "['스팸' '일반' '일반' '일반' '일반' '일반' '일반' '일반' '일반' '일반'] \n",
            "\n",
            "Fold 4 검증 데이터 타깃값:\n",
            "['스팸' '일반' '일반' '일반' '일반' '일반' '일반' '일반' '일반' '일반'] \n",
            "\n",
            "Fold 5 검증 데이터 타깃값:\n",
            "['스팸' '일반' '일반' '일반' '일반' '일반' '일반' '일반' '일반' '일반'] \n",
            "\n"
          ]
        }
      ]
    },
    {
      "cell_type": "code",
      "source": [
        "for idx, (train_idx, valid_idx) in enumerate(folds.split(X,y)):\n",
        "  print(f'Fold {idx+1} 검증 데이터 타깃값:')\n",
        "  print(valid_idx, '\\n')\n",
        "  print(train_idx, '\\n')"
      ],
      "metadata": {
        "id": "1KCmEDdNVdFY",
        "colab": {
          "base_uri": "https://localhost:8080/"
        },
        "outputId": "48b6505c-4201-4d2c-9331-61452c336077"
      },
      "execution_count": 5,
      "outputs": [
        {
          "output_type": "stream",
          "name": "stdout",
          "text": [
            "Fold 1 검증 데이터 타깃값:\n",
            "[ 0  5  6  7  8  9 10 11 12 13] \n",
            "\n",
            "[ 1  2  3  4 14 15 16 17 18 19 20 21 22 23 24 25 26 27 28 29 30 31 32 33\n",
            " 34 35 36 37 38 39 40 41 42 43 44 45 46 47 48 49] \n",
            "\n",
            "Fold 2 검증 데이터 타깃값:\n",
            "[ 1 14 15 16 17 18 19 20 21 22] \n",
            "\n",
            "[ 0  2  3  4  5  6  7  8  9 10 11 12 13 23 24 25 26 27 28 29 30 31 32 33\n",
            " 34 35 36 37 38 39 40 41 42 43 44 45 46 47 48 49] \n",
            "\n",
            "Fold 3 검증 데이터 타깃값:\n",
            "[ 2 23 24 25 26 27 28 29 30 31] \n",
            "\n",
            "[ 0  1  3  4  5  6  7  8  9 10 11 12 13 14 15 16 17 18 19 20 21 22 32 33\n",
            " 34 35 36 37 38 39 40 41 42 43 44 45 46 47 48 49] \n",
            "\n",
            "Fold 4 검증 데이터 타깃값:\n",
            "[ 3 32 33 34 35 36 37 38 39 40] \n",
            "\n",
            "[ 0  1  2  4  5  6  7  8  9 10 11 12 13 14 15 16 17 18 19 20 21 22 23 24\n",
            " 25 26 27 28 29 30 31 41 42 43 44 45 46 47 48 49] \n",
            "\n",
            "Fold 5 검증 데이터 타깃값:\n",
            "[ 4 41 42 43 44 45 46 47 48 49] \n",
            "\n",
            "[ 0  1  2  3  5  6  7  8  9 10 11 12 13 14 15 16 17 18 19 20 21 22 23 24\n",
            " 25 26 27 28 29 30 31 32 33 34 35 36 37 38 39 40] \n",
            "\n"
          ]
        }
      ]
    }
  ]
}