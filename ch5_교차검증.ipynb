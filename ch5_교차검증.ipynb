{
  "nbformat": 4,
  "nbformat_minor": 0,
  "metadata": {
    "colab": {
      "provenance": [],
      "authorship_tag": "ABX9TyPvgoBhhQPAMdgSvAOLdjp8",
      "include_colab_link": true
    },
    "kernelspec": {
      "name": "python3",
      "display_name": "Python 3"
    },
    "language_info": {
      "name": "python"
    }
  },
  "cells": [
    {
      "cell_type": "markdown",
      "metadata": {
        "id": "view-in-github",
        "colab_type": "text"
      },
      "source": [
        "<a href=\"https://colab.research.google.com/github/statje/musthave_mldl_problem_solving_strategy/blob/master/ch5_%EA%B5%90%EC%B0%A8%EA%B2%80%EC%A6%9D.ipynb\" target=\"_parent\"><img src=\"https://colab.research.google.com/assets/colab-badge.svg\" alt=\"Open In Colab\"/></a>"
      ]
    },
    {
      "cell_type": "markdown",
      "source": [
        "k fold 교차 검증"
      ],
      "metadata": {
        "id": "lJvgalduViDs"
      }
    },
    {
      "cell_type": "code",
      "execution_count": null,
      "metadata": {
        "id": "m6AWxzu2VBeV"
      },
      "outputs": [],
      "source": [
        "import numpy as np\n",
        "from sklearn.model_selection import KFold\n",
        "\n",
        "data = np.array([0,1,2,3,4,5,6,7,8,9])\n",
        "folds = KFold(n_splits = 5, shuffle = False) # k = 5로 설정 / suffle = False로 데이터를 안섞음.\n",
        "\n",
        "for train_idx, valid_idx in folds.split(data):\n",
        "  print(f'훈련 데이터 : {data[train_idx]}, 검증데이터 : {data[valid_idx]}')"
      ]
    },
    {
      "cell_type": "markdown",
      "source": [
        "데이터가 편향되어 있을 수도 있기 때문에 Shuffle 파라미터에 True를 전달함"
      ],
      "metadata": {
        "id": "2e-PPOR4Vgyf"
      }
    },
    {
      "cell_type": "code",
      "source": [
        "import numpy as np\n",
        "from sklearn.model_selection import KFold\n",
        "\n",
        "data = np.array([0,1,2,3,4,5,6,7,8,9])\n",
        "folds = KFold(n_splits = 5, shuffle = False) # k = 5로 설정 / suffle = False로 데이터를 안섞음.\n",
        "\n",
        "for train_idx, valid_idx in folds.split(data):\n",
        "  print(f'훈련 데이터 : {data[train_idx]}, 검증데이터 : {data[valid_idx]}')"
      ],
      "metadata": {
        "id": "JEnUANCaVZ1U"
      },
      "execution_count": null,
      "outputs": []
    },
    {
      "cell_type": "markdown",
      "source": [
        "층화 K 폴드 교차 검증"
      ],
      "metadata": {
        "id": "R6guPuGbVfbx"
      }
    },
    {
      "cell_type": "code",
      "source": [
        "#기존 KFold\n",
        "y = np.array(['스팸']*5 + ['일반']*45)\n",
        "folds = KFold(n_splits = 5, shuffle = True)\n",
        "\n",
        "for idx, (train_idx, valid_idx) in enumerate(folds.split(y)):\n",
        "  print(f'Fold {idx+1} 검증 데이터 타깃값 : ')\n",
        "  print(y[valid_idx], '\\n')"
      ],
      "metadata": {
        "id": "KU_23jjAVa6j"
      },
      "execution_count": null,
      "outputs": []
    },
    {
      "cell_type": "code",
      "source": [
        "from sklearn.model_selection import StratifiedKFold\n",
        "\n",
        "X = np.array(range(50))\n",
        "y = np.array(['스팸']*5 + ['일반']*45)\n",
        "\n",
        "folds = StratifiedKFold(n_splits = 5)\n",
        "\n",
        "for idx, (train_idx, valid_idx) in enumerate(folds.split(X,y)):\n",
        "  print(f'Fold {idx+1} 검증 데이터 타깃값:')\n",
        "  print(y[valid_idx], '\\n')"
      ],
      "metadata": {
        "id": "5lrGBFepVb-i"
      },
      "execution_count": null,
      "outputs": []
    },
    {
      "cell_type": "code",
      "source": [
        "for idx, (train_idx, valid_idx) in enumerate(folds.split(X,y)):\n",
        "  print(f'Fold {idx+1} 검증 데이터 타깃값:')\n",
        "  print(valid_idx, '\\n')\n",
        "  print(train_idx, '\\n')"
      ],
      "metadata": {
        "id": "1KCmEDdNVdFY"
      },
      "execution_count": null,
      "outputs": []
    }
  ]
}