{
  "nbformat": 4,
  "nbformat_minor": 0,
  "metadata": {
    "colab": {
      "provenance": [],
      "authorship_tag": "ABX9TyPSenTG8XH2lsgf/oZQFjKq",
      "include_colab_link": true
    },
    "kernelspec": {
      "name": "python3",
      "display_name": "Python 3"
    },
    "language_info": {
      "name": "python"
    }
  },
  "cells": [
    {
      "cell_type": "markdown",
      "metadata": {
        "id": "view-in-github",
        "colab_type": "text"
      },
      "source": [
        "<a href=\"https://colab.research.google.com/github/statje/musthave_mldl_problem_solving_strategy/blob/master/ch5_%EC%A3%BC%EC%9A%94_%EB%A8%B8%EC%8B%A0%EB%9F%AC%EB%8B%9D_%EB%AA%A8%EB%8D%B8%2C_%EB%B2%A0%EC%9D%B4%EC%A7%80%EC%95%88_%EC%B5%9C%EC%A0%81%ED%99%94.ipynb\" target=\"_parent\"><img src=\"https://colab.research.google.com/assets/colab-badge.svg\" alt=\"Open In Colab\"/></a>"
      ]
    },
    {
      "cell_type": "markdown",
      "source": [
        "주요 머신러닝 모델\n",
        "- 선형 회귀\n",
        "- 로지스틱 회귀\n",
        "- 결정 트리\n",
        "- 앙상블 학습\n",
        "- 랜덤 포레스트\n",
        "- XGBoost\n",
        "- LightGBM"
      ],
      "metadata": {
        "id": "c8i8Pu6pWpuu"
      }
    },
    {
      "cell_type": "markdown",
      "source": [
        "선형 회귀 모델\n",
        "데이터 생성 -> 모델 훈련 -> 회귀선 그래프 확인"
      ],
      "metadata": {
        "id": "tvWWR_JoXFDz"
      }
    },
    {
      "cell_type": "code",
      "execution_count": 6,
      "metadata": {
        "colab": {
          "base_uri": "https://localhost:8080/",
          "height": 283
        },
        "id": "cTh99-OnWioW",
        "outputId": "4b736c76-67ad-4c9c-fbc0-8da7254c9825"
      },
      "outputs": [
        {
          "output_type": "execute_result",
          "data": {
            "text/plain": [
              "<matplotlib.collections.PathCollection at 0x7fdab4e08700>"
            ]
          },
          "metadata": {},
          "execution_count": 6
        },
        {
          "output_type": "display_data",
          "data": {
            "text/plain": [
              "<Figure size 432x288 with 1 Axes>"
            ],
            "image/png": "[encoded data removed]"
          },
          "metadata": {
            "needs_background": "light"
          }
        }
      ],
      "source": [
        "import numpy as np\n",
        "import matplotlib.pyplot as plt\n",
        "np.random.seed(0)\n",
        "\n",
        "w0 = 5\n",
        "w1 = 2\n",
        "noise = np.random.randn(100,1) #표준 정규분포를 따르는 데이터 100개 생성 코드\n",
        "\n",
        "x = 4 * np.random.rand(100,1) #0~4 사이 실수값을 100개 생성\n",
        "y = w1 * x + w0 + noise\n",
        "\n",
        "plt.scatter(x,y)"
      ]
    },
    {
      "cell_type": "markdown",
      "source": [
        "모델 훈련"
      ],
      "metadata": {
        "id": "qv_uVzogYlo2"
      }
    },
    {
      "cell_type": "code",
      "source": [
        "from sklearn.linear_model import LinearRegression\n",
        "\n",
        "linear_reg_model = LinearRegression()\n",
        "linear_reg_model.fit(x,y)\n",
        "\n",
        "print('y절편(w0) :', linear_reg_model.intercept_)\n",
        "print('회귀계수(w1) :', linear_reg_model.coef_)"
      ],
      "metadata": {
        "colab": {
          "base_uri": "https://localhost:8080/"
        },
        "id": "LcrWzePdXluu",
        "outputId": "d8093724-eb5e-4a0b-e202-7125c35814a2"
      },
      "execution_count": 8,
      "outputs": [
        {
          "output_type": "stream",
          "name": "stdout",
          "text": [
            "y절편(w0) : [5.09772262]\n",
            "회귀계수(w1) : [[1.9808382]]\n"
          ]
        }
      ]
    },
    {
      "cell_type": "markdown",
      "source": [
        "회귀선 확인"
      ],
      "metadata": {
        "id": "u7KxRg9yY_pt"
      }
    },
    {
      "cell_type": "code",
      "source": [
        "y_pred = linear_reg_model.predict(x)\n",
        "\n",
        "plt.scatter(x,y)\n",
        "plt.plot(x,y_pred)"
      ],
      "metadata": {
        "colab": {
          "base_uri": "https://localhost:8080/",
          "height": 283
        },
        "id": "hkxaYLs8Y4kk",
        "outputId": "6cbaf418-af32-42dd-9601-98282c3923ac"
      },
      "execution_count": 9,
      "outputs": [
        {
          "output_type": "execute_result",
          "data": {
            "text/plain": [
              "[<matplotlib.lines.Line2D at 0x7fdaad62ee50>]"
            ]
          },
          "metadata": {},
          "execution_count": 9
        },
        {
          "output_type": "display_data",
          "data": {
            "text/plain": [
              "<Figure size 432x288 with 1 Axes>"
            ],
            "image/png": "[encoded data removed]"
          },
          "metadata": {
            "needs_background": "light"
          }
        }
      ]
    },
    {
      "cell_type": "markdown",
      "source": [
        "결정 트리"
      ],
      "metadata": {
        "id": "hxcneWqVZXBV"
      }
    },
    {
      "cell_type": "code",
      "source": [
        "from sklearn.tree import DecisionTreeClassifier\n",
        "from sklearn.model_selection import train_test_split\n",
        "from sklearn.datasets import load_breast_cancer\n",
        "\n",
        "#유방암 데이터셋 불러오기\n",
        "cancer_data = load_breast_cancer()\n",
        "#훈련, 테스트 데이터로 분리\n",
        "X_train, X_test, y_train, y_test = train_test_split(cancer_data['data'], cancer_data['target'],\n",
        "                                                    stratify = cancer_data['target'],\n",
        "                                                    test_size = 0.4, random_state = 42)\n",
        "\n",
        "decisiontree = DecisionTreeClassifier(random_state = 42) #모델 정의\n",
        "decisiontree.fit(X_train, y_train) #모델 훈련\n",
        "\n",
        "accuracy = decisiontree.score(X_test, y_test) # 정확도 측정\n",
        "\n",
        "#테스트 데이터를 활용하여 결정 트리 모델 정확도 출력\n",
        "print(f'결정 트리 정확도 : {accuracy:.3f}')"
      ],
      "metadata": {
        "colab": {
          "base_uri": "https://localhost:8080/"
        },
        "id": "1asVmimqZHry",
        "outputId": "1371c886-8c7c-432a-e26e-1f824065aaeb"
      },
      "execution_count": 10,
      "outputs": [
        {
          "output_type": "stream",
          "name": "stdout",
          "text": [
            "결정 트리 정확도 : 0.930\n"
          ]
        }
      ]
    },
    {
      "cell_type": "markdown",
      "source": [
        "랜덤 포레스트"
      ],
      "metadata": {
        "id": "KLUawBI_vsps"
      }
    },
    {
      "cell_type": "code",
      "source": [
        "from sklearn.ensemble import RandomForestClassifier\n",
        "from sklearn.model_selection import train_test_split\n",
        "from sklearn.datasets import load_breast_cancer\n",
        "\n",
        "#유방암 데이터셋 불러오기\n",
        "cancer_data = load_breast_cancer()\n",
        "#훈련, 테스트 데이터로 분리\n",
        "X_train, X_test, y_train, y_test = train_test_split(cancer_data['data'], cancer_data['target'],\n",
        "                                                    stratify = cancer_data['target'],\n",
        "                                                    test_size = 0.4, random_state = 42)\n",
        "randomforest = RandomForestClassifier(random_state = 42) #모델 정의\n",
        "randomforest.fit(X_train, y_train)  #모델 훈련\n",
        "accuracy = randomforest.score(X_test, y_test) #정확도 측정\n",
        "\n",
        "#테스트 데이터를 활용하여 랜덤 포레스트 모델 정확도 출력\n",
        "print(f'랜덤 포레스트 정확도: {accuracy :.3f}')"
      ],
      "metadata": {
        "colab": {
          "base_uri": "https://localhost:8080/"
        },
        "id": "y5tRSZMReLdu",
        "outputId": "b736c939-8f7b-406b-ddf3-fe21aaa2fd78"
      },
      "execution_count": 11,
      "outputs": [
        {
          "output_type": "stream",
          "name": "stdout",
          "text": [
            "랜덤 포레스트 정확도: 0.939\n"
          ]
        }
      ]
    },
    {
      "cell_type": "markdown",
      "source": [
        "최적화\n",
        "\n",
        "- 베이지안 최적화"
      ],
      "metadata": {
        "id": "lTUMSF7IM78_"
      }
    },
    {
      "cell_type": "markdown",
      "source": [
        "하이퍼파라미터 탐색 범위 설정"
      ],
      "metadata": {
        "id": "hTI2jrKxM_W7"
      }
    },
    {
      "cell_type": "code",
      "source": [
        "#하이퍼파라미터 범위(딕셔너리 형태)\n",
        "param_bounds = {'x' : (-1, 5),\n",
        "                'y' : (0,4)}"
      ],
      "metadata": {
        "id": "HVkV7RNqw3RV"
      },
      "execution_count": 12,
      "outputs": []
    },
    {
      "cell_type": "markdown",
      "source": [
        "평가지표 계산 함수 정의"
      ],
      "metadata": {
        "id": "X3OHIuczNJYU"
      }
    },
    {
      "cell_type": "code",
      "source": [
        "def eval_function(x,y):\n",
        "  return -x**2 - (y-2)**2 + 10"
      ],
      "metadata": {
        "id": "UY61VVONNI3M"
      },
      "execution_count": 13,
      "outputs": []
    },
    {
      "cell_type": "markdown",
      "source": [
        "베이지안 최적화 객체 생성"
      ],
      "metadata": {
        "id": "Do-7_H6wNVz3"
      }
    },
    {
      "cell_type": "code",
      "source": [
        "# !pip install bayes_opt\n",
        "# !pip install Bayesian-Optimization"
      ],
      "metadata": {
        "colab": {
          "base_uri": "https://localhost:8080/"
        },
        "id": "zjOa4CdROEuZ",
        "outputId": "ca129533-6e25-4705-91e2-c2a13e3b2885"
      },
      "execution_count": 20,
      "outputs": [
        {
          "output_type": "stream",
          "name": "stdout",
          "text": [
            "Looking in indexes: https://pypi.org/simple, https://us-python.pkg.dev/colab-wheels/public/simple/\n",
            "\u001b[31mERROR: Could not find a version that satisfies the requirement bayes_opt (from versions: none)\u001b[0m\u001b[31m\n",
            "\u001b[0m\u001b[31mERROR: No matching distribution found for bayes_opt\u001b[0m\u001b[31m\n",
            "\u001b[0mLooking in indexes: https://pypi.org/simple, https://us-python.pkg.dev/colab-wheels/public/simple/\n",
            "Collecting Bayesian-Optimization\n",
            "  Downloading bayesian_optimization-1.4.2-py3-none-any.whl (17 kB)\n",
            "Collecting colorama>=0.4.6\n",
            "  Downloading colorama-0.4.6-py2.py3-none-any.whl (25 kB)\n",
            "Requirement already satisfied: scipy>=1.0.0 in /usr/local/lib/python3.8/dist-packages (from Bayesian-Optimization) (1.7.3)\n",
            "Requirement already satisfied: numpy>=1.9.0 in /usr/local/lib/python3.8/dist-packages (from Bayesian-Optimization) (1.21.6)\n",
            "Requirement already satisfied: scikit-learn>=0.18.0 in /usr/local/lib/python3.8/dist-packages (from Bayesian-Optimization) (1.0.2)\n",
            "Requirement already satisfied: threadpoolctl>=2.0.0 in /usr/local/lib/python3.8/dist-packages (from scikit-learn>=0.18.0->Bayesian-Optimization) (3.1.0)\n",
            "Requirement already satisfied: joblib>=0.11 in /usr/local/lib/python3.8/dist-packages (from scikit-learn>=0.18.0->Bayesian-Optimization) (1.2.0)\n",
            "Installing collected packages: colorama, Bayesian-Optimization\n",
            "Successfully installed Bayesian-Optimization-1.4.2 colorama-0.4.6\n"
          ]
        }
      ]
    },
    {
      "cell_type": "code",
      "source": [
        "from bayes_opt import BayesianOptimization\n",
        "\n",
        "# 베이지안 최적화 객체 생성\n",
        "optimizer = BayesianOptimization(f=eval_function,\n",
        "                                 pbounds=param_bounds,\n",
        "                                 random_state=0)"
      ],
      "metadata": {
        "id": "Frx7oCUZN1a7"
      },
      "execution_count": 21,
      "outputs": []
    },
    {
      "cell_type": "markdown",
      "source": [
        "최적화 수행"
      ],
      "metadata": {
        "id": "Pvd5ORkyOWKd"
      }
    },
    {
      "cell_type": "code",
      "source": [
        "#베이지안 최적화 수행\n",
        "optimizer.maximize(init_points = 2, n_iter = 10)"
      ],
      "metadata": {
        "colab": {
          "base_uri": "https://localhost:8080/"
        },
        "id": "6TKwwMagNUdp",
        "outputId": "7accb142-c8f1-4f67-df11-b89e4837bc46"
      },
      "execution_count": 22,
      "outputs": [
        {
          "output_type": "stream",
          "name": "stdout",
          "text": [
            "|   iter    |  target   |     x     |     y     |\n",
            "-------------------------------------------------\n",
            "| \u001b[0m1        \u001b[0m | \u001b[0m4.002    \u001b[0m | \u001b[0m2.293    \u001b[0m | \u001b[0m2.861    \u001b[0m |\n",
            "| \u001b[0m2        \u001b[0m | \u001b[0m3.121    \u001b[0m | \u001b[0m2.617    \u001b[0m | \u001b[0m2.18     \u001b[0m |\n",
            "| \u001b[0m3        \u001b[0m | \u001b[0m3.832    \u001b[0m | \u001b[0m2.327    \u001b[0m | \u001b[0m2.869    \u001b[0m |\n",
            "| \u001b[95m4        \u001b[0m | \u001b[95m4.596    \u001b[0m | \u001b[95m2.171    \u001b[0m | \u001b[95m2.832    \u001b[0m |\n",
            "| \u001b[0m5        \u001b[0m | \u001b[0m-6.227   \u001b[0m | \u001b[0m3.989    \u001b[0m | \u001b[0m2.559    \u001b[0m |\n",
            "| \u001b[95m6        \u001b[0m | \u001b[95m9.467    \u001b[0m | \u001b[95m0.3522   \u001b[0m | \u001b[95m1.361    \u001b[0m |\n",
            "| \u001b[0m7        \u001b[0m | \u001b[0m7.39     \u001b[0m | \u001b[0m-1.0     \u001b[0m | \u001b[0m3.269    \u001b[0m |\n",
            "| \u001b[0m8        \u001b[0m | \u001b[0m5.0      \u001b[0m | \u001b[0m-1.0     \u001b[0m | \u001b[0m0.0      \u001b[0m |\n",
            "| \u001b[0m9        \u001b[0m | \u001b[0m3.841    \u001b[0m | \u001b[0m1.469    \u001b[0m | \u001b[0m0.0      \u001b[0m |\n",
            "| \u001b[0m10       \u001b[0m | \u001b[0m8.966    \u001b[0m | \u001b[0m-1.0     \u001b[0m | \u001b[0m1.817    \u001b[0m |\n",
            "| \u001b[95m11       \u001b[0m | \u001b[95m9.737    \u001b[0m | \u001b[95m0.1806   \u001b[0m | \u001b[95m2.48     \u001b[0m |\n",
            "| \u001b[0m12       \u001b[0m | \u001b[0m5.785    \u001b[0m | \u001b[0m0.4638   \u001b[0m | \u001b[0m4.0      \u001b[0m |\n",
            "=================================================\n"
          ]
        }
      ]
    },
    {
      "cell_type": "markdown",
      "source": [
        "총 스텝 수는 12회 중간중간 평가 함수 점수가 최댓값을 갱신함. - 마지막 값이 베이지안 최적화로 찾은 최적 하이퍼파라미터임."
      ],
      "metadata": {
        "id": "FfB-lNw6O09h"
      }
    },
    {
      "cell_type": "code",
      "source": [
        "optimizer.max"
      ],
      "metadata": {
        "colab": {
          "base_uri": "https://localhost:8080/"
        },
        "id": "7nmUHXOKNkQb",
        "outputId": "2df7b958-fb73-4a32-e247-b2e29b5a761b"
      },
      "execution_count": 23,
      "outputs": [
        {
          "output_type": "execute_result",
          "data": {
            "text/plain": [
              "{'target': 9.73708754050397,\n",
              " 'params': {'x': 0.18063747442587866, 'y': 2.4798776535004214}}"
            ]
          },
          "metadata": {},
          "execution_count": 23
        }
      ]
    }
  ]
}